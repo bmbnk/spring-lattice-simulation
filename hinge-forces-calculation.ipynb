{
    "cells": [
        {
            "cell_type": "code",
            "execution_count": 1,
            "metadata": {},
            "outputs": [],
            "source": [
                "import sympy\n",
                "from sympy.vector import CoordSys3D\n",
                "from sympy.utilities.lambdify import lambdify\n",
                "from physics import Vector3D"
            ]
        },
        {
            "cell_type": "code",
            "execution_count": 2,
            "metadata": {},
            "outputs": [],
            "source": [
                "R = CoordSys3D('R')\n",
                "\n",
                "s_dict = {}\n",
                "symbols = [\n",
                "    'x1','y1','z1',\n",
                "    'x2','y2','z2',\n",
                "    'x3','y3','z3',\n",
                "    'k', 'theta0'\n",
                "    ]\n",
                "\n",
                "for s in symbols:\n",
                "    s_dict[s] = sympy.Symbol(s)\n",
                "\n",
                "r1 = s_dict['x1'] * R.i + s_dict['y1'] * R.j + s_dict['z1'] * R.k\n",
                "r2 = s_dict['x2'] * R.i + s_dict['y2'] * R.j + s_dict['z2'] * R.k  # this is coor vector of the point next the theta angle\n",
                "r3 = s_dict['x3'] * R.i + s_dict['y3'] * R.j + s_dict['z3'] * R.k"
            ]
        },
        {
            "cell_type": "code",
            "execution_count": 3,
            "metadata": {},
            "outputs": [],
            "source": [
                "r12 = r1-r2\n",
                "r32 = r3-r2\n",
                "v = -s_dict['k'] * (sympy.acos((r32.dot(r12))/((sympy.sqrt(r32.dot(r32)))*(sympy.sqrt(r12.dot(r12))))) - s_dict['theta0'])**2 / 2 "
            ]
        },
        {
            "cell_type": "code",
            "execution_count": 4,
            "metadata": {},
            "outputs": [
                {
                    "data": {
                        "text/latex": [
                            "$\\displaystyle - \\frac{k \\left(- \\theta_{0} + \\operatorname{acos}{\\left(\\frac{\\left(x_{1} - x_{2}\\right) \\left(- x_{2} + x_{3}\\right) + \\left(y_{1} - y_{2}\\right) \\left(- y_{2} + y_{3}\\right) + \\left(z_{1} - z_{2}\\right) \\left(- z_{2} + z_{3}\\right)}{\\sqrt{\\left(x_{1} - x_{2}\\right)^{2} + \\left(y_{1} - y_{2}\\right)^{2} + \\left(z_{1} - z_{2}\\right)^{2}} \\sqrt{\\left(- x_{2} + x_{3}\\right)^{2} + \\left(- y_{2} + y_{3}\\right)^{2} + \\left(- z_{2} + z_{3}\\right)^{2}}} \\right)}\\right)^{2}}{2}$"
                        ],
                        "text/plain": [
                            "-k*(-theta0 + acos(((x1 - x2)*(-x2 + x3) + (y1 - y2)*(-y2 + y3) + (z1 - z2)*(-z2 + z3))/(sqrt((x1 - x2)**2 + (y1 - y2)**2 + (z1 - z2)**2)*sqrt((-x2 + x3)**2 + (-y2 + y3)**2 + (-z2 + z3)**2))))**2/2"
                        ]
                    },
                    "execution_count": 4,
                    "metadata": {},
                    "output_type": "execute_result"
                }
            ],
            "source": [
                "v  # orig expression is -k/2 * (theta - theta0)**2, but cos(theta) can be derived from definition of scalar product between two vectors"
            ]
        },
        {
            "cell_type": "code",
            "execution_count": 5,
            "metadata": {},
            "outputs": [],
            "source": [
                "forces_1 = []\n",
                "\n",
                "for a in ['x1', 'y1', 'z1']:\n",
                "    forces_1.append(lambdify([s_dict[v] for v in symbols], sympy.diff(v, s_dict[a])))\n",
                "\n",
                "def f_1(coor1: Vector3D, coor2: Vector3D, coor3: Vector3D, k, theta0):\n",
                "    return Vector3D(*[force(*coor1, *coor2, *coor3, k, theta0) for force in forces_1])\n"
            ]
        },
        {
            "cell_type": "code",
            "execution_count": 6,
            "metadata": {},
            "outputs": [],
            "source": [
                "forces_2 = []\n",
                "\n",
                "for a in ['x3', 'y2', 'z2']:\n",
                "    forces_2.append(lambdify([s_dict[v] for v in symbols], sympy.diff(v, s_dict[a])))\n",
                "\n",
                "def f_2(coor1: Vector3D, coor2: Vector3D, coor3: Vector3D, k, theta0):\n",
                "    return Vector3D(*[force(*coor1, *coor2, *coor3, k, theta0) for force in forces_2])"
            ]
        },
        {
            "cell_type": "code",
            "execution_count": 7,
            "metadata": {},
            "outputs": [],
            "source": [
                "forces_3 = []\n",
                "\n",
                "for a in ['x3', 'y3', 'z3']:\n",
                "    forces_3.append(lambdify([s_dict[v] for v in symbols], sympy.diff(v, s_dict[a])))\n",
                "\n",
                "def f_3(coor1: Vector3D, coor2: Vector3D, coor3: Vector3D, k, theta0):\n",
                "    return Vector3D(*[force(*coor1, *coor2, *coor3, k, theta0) for force in forces_3])"
            ]
        },
        {
            "cell_type": "code",
            "execution_count": 8,
            "metadata": {},
            "outputs": [],
            "source": [
                "forces = {}\n",
                "forces['force1'] = f_1\n",
                "forces['force2'] = f_2\n",
                "forces['force3'] = f_3"
            ]
        }
    ],
    "metadata": {
        "kernelspec": {
            "display_name": "pytorch-cv",
            "language": "python",
            "name": "python3"
        },
        "language_info": {
            "codemirror_mode": {
                "name": "ipython",
                "version": 3
            },
            "file_extension": ".py",
            "mimetype": "text/x-python",
            "name": "python",
            "nbconvert_exporter": "python",
            "pygments_lexer": "ipython3",
            "version": "3.10.8"
        }
    },
    "nbformat": 4,
    "nbformat_minor": 2
}
